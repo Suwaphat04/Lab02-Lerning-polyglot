{
 "cells": [
  {
   "cell_type": "markdown",
   "metadata": {
    "dotnet_interactive": {
     "language": "csharp"
    },
    "polyglot_notebook": {
     "kernelName": "csharp"
    }
   },
   "source": [
    "# Lab 2.4 Magic command"
   ]
  },
  {
   "cell_type": "markdown",
   "metadata": {},
   "source": [
    "เนื้อหา https://github.com/dotnet/interactive/blob/main/docs/magic-commands.md"
   ]
  },
  {
   "cell_type": "markdown",
   "metadata": {},
   "source": [
    "Magic command เป็นคำสั่งพิเศษที่สามารถกำหนดเงื่อนไขต่างๆ ใน cell  \n",
    "แนวคิดของคำสั่ง Magic command ได้ยืมมาจาก  Jupyter แต่จะมีการเปลี่ยนแปลงเล็กน้อยในไวยากรณ์เพื่อรองรับภาษา .NET \n",
    "\n",
    "> ลักษณะเฉพาะของ Magic command\n",
    "\n",
    "1. จะต้องเริ่มต้นที่จุดเริ่มต้นของบรรทัดเสมอและต้องเขียนให้จบในบรรทัดเดียว \n",
    "2. ต้องขึ้นต้นด้วย #! หรือ #  (คำสั่ง # จะเกิดขึ้นเฉพาะเมื่อมีการรวมพฤติกรรมเข้ากับคำสั่งคอมไพเลอร์เฉพาะภาษา เช่น #r )\n",
    "3. Magic command ของ polyglot ต่างจากของ Jupyter ตรงที่ไม่มีการแยกความแตกต่างระหว่าง \"cell magic\" กับ \"line magic\""
   ]
  },
  {
   "cell_type": "markdown",
   "metadata": {},
   "source": [
    "> ตัวอย่าง คำสั่ง #!time \n",
    "\n",
    "\n",
    "คำสั่ง #!time  ถูกใช้เพื่อวัดเวลาในการทำงานของคำสั่งหรือโปรแกรม\n",
    "\n",
    "ให้เขียน Code ต่อไปนี้ในภาษา Csharp แล้วรัน เพื่อวัดเวลาในการประมวลผลของโปรแกรม"
   ]
  },
  {
   "cell_type": "markdown",
   "metadata": {},
   "source": [
    "``` csharp\n",
    "#!csharp\n",
    "#!time\n",
    "await Task.Delay(1000);\n",
    "```"
   ]
  },
  {
   "cell_type": "markdown",
   "metadata": {},
   "source": [
    "## Global magic commands\n",
    "\n",
    "| Command                               | Behavior                               \n",
    "|---------------------------------------|----------------------------------------------------------------------\n",
    "| `#!about`                             | แสดงข้อมูลเกี่ยวกับเวอร์ชันของเคอร์เนล\n",
    "| [`#!import`](import-magic-command.md) | รันโค้ดจากสมุดบันทึกอื่นหรือไฟล์โค้ดต้นฉบับ\n",
    "| `#!lsmagic`                           | แสดงรายการคำสั่ง magic command ที่มีอยู่ (รวมถึงคำสั่งที่อาจได้รับการติดตั้งผ่านส่วนขยาย)\n",
    "| `#!markdown`                          | ระบุว่าโค้ดต่อไปนี้เป็น Markdown ซึ่งสามารถแสดงผลเป็น HTML ในเบราว์เซอร์ได้โดยตรง\n",
    "| [`#!share`](variable-sharing.md)      | แชร์ตัวแปรจากซับเคอร์เนลที่ระบุอื่น (รวมถึงซับเคอร์เนลที่จัดเก็บโดยใช้ #!value)\n",
    "| [`#!set`](variable-sharing.md)        | ตั้งค่าในเคอร์เนลปัจจุบัน (รวมถึงการสนับสนุนสำหรับอินพุตและตัวอักษร)\n",
    "| `#!time`                              | วัดเวลาการดำเนินการของโค้ด\n",
    "| `#!connect`                           | เปิดใช้งานการเชื่อมต่อเคอร์เนลเพิ่มเติม"
   ]
  },
  {
   "cell_type": "markdown",
   "metadata": {},
   "source": [
    "## Kernel chooser magic commands\n",
    "| Command                               | Behavior                               \n",
    "|---------------------------------------|----------------------------------------------------------------------\n",
    "| `#!csharp` (also: `#!c#`, `#!C#`)     | ระบุว่าโค้ดต่อไปนี้เป็น C# (โดยเฉพาะอย่างยิ่งภาษาสคริปต์ C#)\n",
    "| `#!fsharp` (also: `#!f#`, `#!F#`)     | ระบุว่าโค้ดต่อไปนี้เป็น  F#.\n",
    "| `#!html`                              | ระบุว่าโค้ดต่อไปนี้เป็น HTML ที่สามารถแสดงผลในเบราว์เซอร์ได้โดยตรง\n",
    "| `#!javascript` (also: `#!js`)         | ระบุว่าโค้ดต่อไปนี้เป็น JavaScript ที่ต้องดำเนินการในเบราว์เซอร์\n",
    "| `#!kql`                               | ให้ข้อมูลเกี่ยวกับวิธีการเพิ่มเคอร์เนล KQL (Kusto Query Language) เฉพาะการเชื่อมต่อลงในเซสชันแบบโต้ตอบ\n",
    "| `#!mermaid`                           | ระบุว่าโค้ดต่อไปนี้คือ Mermaid ผลลัพธ์จะแสดงออกมาเป็นภาพ\n",
    "| `#!pwsh` (also: `#!powershell`)       | ระบุว่าโค้ดต่อไปนี้คือ PowerShell\n",
    "| `#!sql`                               | ให้ข้อมูลเกี่ยวกับวิธีการเพิ่มเคอร์เนล SQL เฉพาะการเชื่อมต่อลงในเซสชันแบบโต้ตอบ\n",
    "| `#!value`                             | เก็บค่า (จากข้อความที่ป้อน จากไฟล์ หรือ จาก URL) ซึ่งสามารถเข้าถึงได้โดยใช้ #!share"
   ]
  },
  {
   "cell_type": "markdown",
   "metadata": {},
   "source": [
    "## ตัวอย่าง การเรียกใช้ mermaid เพื่อวาดไดอะแกรม"
   ]
  },
  {
   "cell_type": "markdown",
   "metadata": {},
   "source": [
    "อ้างอิง https://mermaid.js.org/intro/"
   ]
  },
  {
   "cell_type": "markdown",
   "metadata": {},
   "source": [
    "> สร้าง code cell ใหม่ แล้วพิมพ์ข้อความต่อไปนี้ลงไปใน cell แล้วกด Ctrl + Enter เพื่อดูผลลัพธ์"
   ]
  },
  {
   "cell_type": "markdown",
   "metadata": {},
   "source": [
    "```mermaid\n",
    "#!mermaid\n",
    "pie title NETFLIX\n",
    "         \"Time spent looking for movie\" : 90\n",
    "         \"Time spent watching it\" : 10\n",
    "```"
   ]
  },
  {
   "cell_type": "markdown",
   "metadata": {},
   "source": [
    "> ตัวอย่าง การวาด Flow chart ใน mermaid\n",
    "\n",
    "อ้างอิง https://mermaid.js.org/syntax/flowchart.html"
   ]
  },
  {
   "cell_type": "markdown",
   "metadata": {},
   "source": [
    "```mermaid\n",
    "#!mermaid\n",
    "flowchart TD\n",
    "    A[Start] --> B{Is it?}\n",
    "    B -->|Yes| C[OK]\n",
    "    C --> D[Rethink]\n",
    "    D --> B\n",
    "    B ---->|No| E[End]\n",
    "```"
   ]
  },
  {
   "cell_type": "markdown",
   "metadata": {},
   "source": [
    "## การบ้าน\n",
    "\n",
    "ให้สร้าง notebook แล้ววาดไดอะแกรมต่อไปนี้โดยใช้ mermaid\n",
    "\n",
    "1. flow chart สำหรับคำสั่ง if\n",
    "\n",
    "![if](./Images/if.svg)\n",
    "\n",
    "2. flow chart สำหรับคำสั่ง if-else\n",
    "\n",
    "![if-else](./Images/if-else.svg)\n",
    "\n",
    "3. flow chart สำหรับคำสั่ง if-else-if\n",
    "\n",
    "\n",
    "![if-else-if](./Images/if-else-if.svg)\n",
    "\n",
    "4. flow chart สำหรับคำสั่ง do-while\n",
    "\n",
    "![do-while](./Images/do-while.svg)\n",
    "\n",
    "\n",
    "5. flow chart สำหรับคำสั่ง for\n",
    "\n",
    "![for](./Images/for.svg)\n"
   ]
  },
  {
   "cell_type": "markdown",
   "metadata": {},
   "source": [
    "ข้อ1"
   ]
  },
  {
   "cell_type": "code",
   "execution_count": 3,
   "metadata": {
    "polyglot_notebook": {
     "kernelName": "csharp"
    }
   },
   "outputs": [
    {
     "data": {
      "text/html": [
       "<div class=\"mermaidMarkdownContainer\" style=\"background-color:white\">\r\n",
       "<link rel=\"stylesheet\" href=\"https://cdnjs.cloudflare.com/ajax/libs/font-awesome/6.2.0/css/all.min.css\">\r\n",
       "<div id=\"90455b2db9b44d73b0edc91cbe352ffa\"></div>\r\n",
       "<script type=\"module\">\r\n",
       "\r\n",
       "            import mermaid from 'https://cdn.jsdelivr.net/npm/mermaid@10.6.1/dist/mermaid.esm.min.mjs';\r\n",
       "            let renderTarget = document.getElementById('90455b2db9b44d73b0edc91cbe352ffa');\r\n",
       "            try {\r\n",
       "                const {svg, bindFunctions} = await mermaid.mermaidAPI.render( \r\n",
       "                    'mermaid_90455b2db9b44d73b0edc91cbe352ffa', \r\n",
       "                    `flowchart TD\r\n",
       "      A[Start] --> B{conditional}\r\n",
       "      B -->|true| C[Statemens]\r\n",
       "      C --> D\r\n",
       "      B ---->|false|D\r\n",
       "      D --> E[End]`);\r\n",
       "                renderTarget.innerHTML = svg;\r\n",
       "                bindFunctions?.(renderTarget);\r\n",
       "            }\r\n",
       "            catch (error) {\r\n",
       "                console.log(error);\r\n",
       "            }\r\n",
       "</script>\r\n",
       "</div>\r\n"
      ]
     },
     "metadata": {},
     "output_type": "display_data"
    }
   ],
   "source": [
    "\n",
    "#!mermaid\n",
    "flowchart TD\n",
    "      A[Start] --> B{conditional}\n",
    "      B -->|true| C[Statemens]\n",
    "      C --> D\n",
    "      B ---->|false|D\n",
    "      D --> E[End]"
   ]
  },
  {
   "cell_type": "markdown",
   "metadata": {},
   "source": [
    "ข้อ2"
   ]
  },
  {
   "cell_type": "code",
   "execution_count": 4,
   "metadata": {
    "polyglot_notebook": {
     "kernelName": "csharp"
    }
   },
   "outputs": [
    {
     "data": {
      "text/html": [
       "<div class=\"mermaidMarkdownContainer\" style=\"background-color:white\">\r\n",
       "<link rel=\"stylesheet\" href=\"https://cdnjs.cloudflare.com/ajax/libs/font-awesome/6.2.0/css/all.min.css\">\r\n",
       "<div id=\"e641946fa0834afeb8e328241b44024c\"></div>\r\n",
       "<script type=\"module\">\r\n",
       "\r\n",
       "            import mermaid from 'https://cdn.jsdelivr.net/npm/mermaid@10.6.1/dist/mermaid.esm.min.mjs';\r\n",
       "            let renderTarget = document.getElementById('e641946fa0834afeb8e328241b44024c');\r\n",
       "            try {\r\n",
       "                const {svg, bindFunctions} = await mermaid.mermaidAPI.render( \r\n",
       "                    'mermaid_e641946fa0834afeb8e328241b44024c', \r\n",
       "                    `flowchart TD\r\n",
       "      A[Start] --> B{conditional}\r\n",
       "      B -->|true| C[Statemens]\r\n",
       "      C --> E\r\n",
       "      B ---->|false|D{conditional}\r\n",
       "      D --> E\r\n",
       "      E --> F[End]`);\r\n",
       "                renderTarget.innerHTML = svg;\r\n",
       "                bindFunctions?.(renderTarget);\r\n",
       "            }\r\n",
       "            catch (error) {\r\n",
       "                console.log(error);\r\n",
       "            }\r\n",
       "</script>\r\n",
       "</div>\r\n"
      ]
     },
     "metadata": {},
     "output_type": "display_data"
    }
   ],
   "source": [
    "#!mermaid\n",
    "flowchart TD\n",
    "      A[Start] --> B{conditional}\n",
    "      B -->|true| C[Statemens]\n",
    "      C --> E\n",
    "      B ---->|false|D{conditional}\n",
    "      D --> E\n",
    "      E --> F[End]"
   ]
  },
  {
   "cell_type": "markdown",
   "metadata": {},
   "source": [
    "ข้อ3"
   ]
  },
  {
   "cell_type": "code",
   "execution_count": 5,
   "metadata": {
    "polyglot_notebook": {
     "kernelName": "csharp"
    }
   },
   "outputs": [
    {
     "data": {
      "text/html": [
       "<div class=\"mermaidMarkdownContainer\" style=\"background-color:white\">\r\n",
       "<link rel=\"stylesheet\" href=\"https://cdnjs.cloudflare.com/ajax/libs/font-awesome/6.2.0/css/all.min.css\">\r\n",
       "<div id=\"704a148f8bd349fb8e3fc6efea25f6bf\"></div>\r\n",
       "<script type=\"module\">\r\n",
       "\r\n",
       "            import mermaid from 'https://cdn.jsdelivr.net/npm/mermaid@10.6.1/dist/mermaid.esm.min.mjs';\r\n",
       "            let renderTarget = document.getElementById('704a148f8bd349fb8e3fc6efea25f6bf');\r\n",
       "            try {\r\n",
       "                const {svg, bindFunctions} = await mermaid.mermaidAPI.render( \r\n",
       "                    'mermaid_704a148f8bd349fb8e3fc6efea25f6bf', \r\n",
       "                    `flowchart TD\r\n",
       "     A[Start] --> B{conditional}\r\n",
       "     B -->|true| C[Statemens]\r\n",
       "     C --> 2\r\n",
       "     B -->|false|E{conditional}\r\n",
       "     E -->|true| F[Statemens]\r\n",
       "     F --> 1\r\n",
       "     1 --> 2\r\n",
       "     E -->|false|H{conditional}\r\n",
       "     H -->|true| I[Statemens]\r\n",
       "     I --> 0\r\n",
       "     0 --> 1\r\n",
       "     H -->|false|K[Statemens]\r\n",
       "     K --> 0\r\n",
       "     2 --> L[End]`);\r\n",
       "                renderTarget.innerHTML = svg;\r\n",
       "                bindFunctions?.(renderTarget);\r\n",
       "            }\r\n",
       "            catch (error) {\r\n",
       "                console.log(error);\r\n",
       "            }\r\n",
       "</script>\r\n",
       "</div>\r\n"
      ]
     },
     "metadata": {},
     "output_type": "display_data"
    }
   ],
   "source": [
    "#!mermaid\n",
    "flowchart TD\n",
    "     A[Start] --> B{conditional}\n",
    "     B -->|true| C[Statemens]\n",
    "     C --> 2\n",
    "     B -->|false|E{conditional}\n",
    "     E -->|true| F[Statemens]\n",
    "     F --> 1\n",
    "     1 --> 2\n",
    "     E -->|false|H{conditional}\n",
    "     H -->|true| I[Statemens]\n",
    "     I --> 0\n",
    "     0 --> 1\n",
    "     H -->|false|K[Statemens]\n",
    "     K --> 0\n",
    "     2 --> L[End]"
   ]
  },
  {
   "cell_type": "markdown",
   "metadata": {},
   "source": [
    "ข้อ4"
   ]
  },
  {
   "cell_type": "code",
   "execution_count": 6,
   "metadata": {
    "polyglot_notebook": {
     "kernelName": "csharp"
    }
   },
   "outputs": [
    {
     "data": {
      "text/html": [
       "<div class=\"mermaidMarkdownContainer\" style=\"background-color:white\">\r\n",
       "<link rel=\"stylesheet\" href=\"https://cdnjs.cloudflare.com/ajax/libs/font-awesome/6.2.0/css/all.min.css\">\r\n",
       "<div id=\"5291a59cd76d4968ab90facf516ec1bd\"></div>\r\n",
       "<script type=\"module\">\r\n",
       "\r\n",
       "            import mermaid from 'https://cdn.jsdelivr.net/npm/mermaid@10.6.1/dist/mermaid.esm.min.mjs';\r\n",
       "            let renderTarget = document.getElementById('5291a59cd76d4968ab90facf516ec1bd');\r\n",
       "            try {\r\n",
       "                const {svg, bindFunctions} = await mermaid.mermaidAPI.render( \r\n",
       "                    'mermaid_5291a59cd76d4968ab90facf516ec1bd', \r\n",
       "                    `flowchart TD\r\n",
       "     \r\n",
       "      A[Start] --> B[Statemens]\r\n",
       "      B --> C{conditional}\r\n",
       "      C --> |true|B\r\n",
       "      C --> |false|D[End]`);\r\n",
       "                renderTarget.innerHTML = svg;\r\n",
       "                bindFunctions?.(renderTarget);\r\n",
       "            }\r\n",
       "            catch (error) {\r\n",
       "                console.log(error);\r\n",
       "            }\r\n",
       "</script>\r\n",
       "</div>\r\n"
      ]
     },
     "metadata": {},
     "output_type": "display_data"
    }
   ],
   "source": [
    "#!mermaid\n",
    "flowchart TD\n",
    "     \n",
    "      A[Start] --> B[Statemens]\n",
    "      B --> C{conditional}\n",
    "      C --> |true|B\n",
    "      C --> |false|D[End]"
   ]
  },
  {
   "cell_type": "markdown",
   "metadata": {},
   "source": [
    "ข้อ5"
   ]
  },
  {
   "cell_type": "code",
   "execution_count": 7,
   "metadata": {
    "polyglot_notebook": {
     "kernelName": "csharp"
    }
   },
   "outputs": [
    {
     "data": {
      "text/html": [
       "<div class=\"mermaidMarkdownContainer\" style=\"background-color:white\">\r\n",
       "<link rel=\"stylesheet\" href=\"https://cdnjs.cloudflare.com/ajax/libs/font-awesome/6.2.0/css/all.min.css\">\r\n",
       "<div id=\"d52cd4edee434c739dd6e3a55831a030\"></div>\r\n",
       "<script type=\"module\">\r\n",
       "\r\n",
       "            import mermaid from 'https://cdn.jsdelivr.net/npm/mermaid@10.6.1/dist/mermaid.esm.min.mjs';\r\n",
       "            let renderTarget = document.getElementById('d52cd4edee434c739dd6e3a55831a030');\r\n",
       "            try {\r\n",
       "                const {svg, bindFunctions} = await mermaid.mermaidAPI.render( \r\n",
       "                    'mermaid_d52cd4edee434c739dd6e3a55831a030', \r\n",
       "                    `flowchart TD\r\n",
       "      A[Start] --> B[initialization]\r\n",
       "      B --> C\r\n",
       "      C --> D{conditional\r\n",
       "       check}\r\n",
       "       D --> |true|E[Statemens]\r\n",
       "       E --> F[Update]\r\n",
       "       F ---> C\r\n",
       "       D --> |false|G[End]`);\r\n",
       "                renderTarget.innerHTML = svg;\r\n",
       "                bindFunctions?.(renderTarget);\r\n",
       "            }\r\n",
       "            catch (error) {\r\n",
       "                console.log(error);\r\n",
       "            }\r\n",
       "</script>\r\n",
       "</div>\r\n"
      ]
     },
     "metadata": {},
     "output_type": "display_data"
    }
   ],
   "source": [
    "#!mermaid\n",
    "    flowchart TD\n",
    "      A[Start] --> B[initialization]\n",
    "      B --> C\n",
    "      C --> D{conditional\n",
    "       check}\n",
    "       D --> |true|E[Statemens]\n",
    "       E --> F[Update]\n",
    "       F ---> C\n",
    "       D --> |false|G[End]"
   ]
  }
 ],
 "metadata": {
  "kernelspec": {
   "display_name": ".NET (C#)",
   "language": "C#",
   "name": ".net-csharp"
  },
  "polyglot_notebook": {
   "kernelInfo": {
    "defaultKernelName": "csharp",
    "items": [
     {
      "aliases": [],
      "languageName": "csharp",
      "name": "csharp"
     }
    ]
   }
  }
 },
 "nbformat": 4,
 "nbformat_minor": 2
}
