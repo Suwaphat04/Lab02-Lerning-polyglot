{
 "cells": [
  {
   "cell_type": "markdown",
   "metadata": {},
   "source": [
    "# Lab 2.1 การสร้าง dotnet console project"
   ]
  },
  {
   "cell_type": "markdown",
   "metadata": {},
   "source": [
    "ข้อดีของการใช้ polyglot คือเราสามารถใช้คำสั่ง powershell (ของวินโดวส์) เพื่อสร้าง project ได้จาก notebook \n",
    "\n",
    "หมายเหตุ สำหรับนักศึกษาที่ใช้ระบบปฏิบัติการที่ไม่ใช้ notebook ให้เปิด terminal แล้วพิมพ์คำสั่งตามใบงานนี้ จะได้ผลลัพธ์เช่นเดียวกัน"
   ]
  },
  {
   "cell_type": "markdown",
   "metadata": {},
   "source": [
    "## การสร้างและรัน dotnet console project ด้วย powershell\n",
    "###  พิมพ์ code ต่อไปนี้ ลงใน cell ของ powershell ครั้งละบรรทัด เพื่อสร้างและรันโปรเจค\n",
    "\n",
    "1. คำสั่ง `dotnet new console -n HelloWorld -o HelloWorld` \n",
    "   \n",
    "คำสั่ง/options |ความหมาย\n",
    "--|--\n",
    "   `dotnet new console`  | สร้าง  project  ใหม่เป็น console project\n",
    "   `-n HelloWorld`  | ระบุชื่อ project\n",
    "   `-o HelloWorld`  | ระบุ folder ของ project \n",
    "\n",
    "หมายเหตุ การที่ไม่สามารถสร้าง project นั้น อาจจะเกิดจากการที่มี folder  ของ project นั้นอยู่ที่นั่นแล้ว ถ้าเป็นเช่นนั้นให้ลบออกหรือย้ายไปไว้ในที่อื่นก่อน\n",
    " \n"
   ]
  },
  {
   "cell_type": "markdown",
   "metadata": {
    "dotnet_interactive": {
     "language": "pwsh"
    },
    "polyglot_notebook": {
     "kernelName": "pwsh"
    }
   },
   "source": [
    "# พืมพ์คำสั่งตามข้อ 1\n",
    "dotnet new console -n Helloworld -o Helloworld\n"
   ]
  },
  {
   "cell_type": "markdown",
   "metadata": {},
   "source": [
    "2. ตรวจสอบให้แน่ใจว่า dotnet ได้สร้าง folder ของโปรเจคไว้ในตำแหน่งที่กำหนดแล้ว\n",
    "   \n",
    "   โดยการเรียก  terminal แล้วพิมพ์คำสั่ง `dir` หรือดูใน file explorer   "
   ]
  },
  {
   "cell_type": "markdown",
   "metadata": {
    "dotnet_interactive": {
     "language": "pwsh"
    },
    "polyglot_notebook": {
     "kernelName": "pwsh"
    }
   },
   "source": [
    "# พืมพ์คำสั่งตามข้อ 2\n",
    "dir"
   ]
  },
  {
   "cell_type": "markdown",
   "metadata": {},
   "source": [
    "3. เปลี่ยนเส้นทางเข้าไปยัง folder ที่ถูกสร้างขึ้น  `cd HelloWorld`"
   ]
  },
  {
   "cell_type": "markdown",
   "metadata": {
    "dotnet_interactive": {
     "language": "pwsh"
    },
    "polyglot_notebook": {
     "kernelName": "pwsh"
    }
   },
   "source": [
    "# พืมพ์คำสั่งตามข้อ 3\n",
    "cd Helloworld"
   ]
  },
  {
   "cell_type": "markdown",
   "metadata": {},
   "source": [
    "4. พิมพ์ `dotnet build`"
   ]
  },
  {
   "cell_type": "markdown",
   "metadata": {
    "dotnet_interactive": {
     "language": "pwsh"
    },
    "polyglot_notebook": {
     "kernelName": "pwsh"
    }
   },
   "source": [
    "# พืมพ์คำสั่งตามข้อ \n",
    "dotnet build"
   ]
  },
  {
   "cell_type": "markdown",
   "metadata": {},
   "source": [
    "5. พิมพ์ `dotnet run` เพื่อดูผลการทำงานของโปรแกรม"
   ]
  },
  {
   "cell_type": "markdown",
   "metadata": {
    "dotnet_interactive": {
     "language": "pwsh"
    },
    "polyglot_notebook": {
     "kernelName": "pwsh"
    }
   },
   "source": [
    "# พืมพ์คำสั่งตามข้อ 5\n",
    "dotnet run"
   ]
  },
  {
   "cell_type": "markdown",
   "metadata": {},
   "source": [
    "6. เข้าไปในไฟล์ Program.cs ของโปรเจค HelloWorld\n",
    "7. แก้ไขบรรทัดที่ 2  `Console.WriteLine(\"Hello, World!\");` ให้เป็นข้อความอื่น เช่น `\"Hello, <ชื่อของนักศึกษา>!\"`\n",
    "8. พิมพ์ `dotnet build`"
   ]
  },
  {
   "cell_type": "markdown",
   "metadata": {
    "dotnet_interactive": {
     "language": "pwsh"
    },
    "polyglot_notebook": {
     "kernelName": "pwsh"
    }
   },
   "source": [
    "# พืมพ์คำสั่งตามข้อ 8\n",
    "dotnet build"
   ]
  },
  {
   "cell_type": "markdown",
   "metadata": {},
   "source": [
    "9. พิมพ์ `dotnet run`"
   ]
  },
  {
   "cell_type": "markdown",
   "metadata": {
    "dotnet_interactive": {
     "language": "pwsh"
    },
    "polyglot_notebook": {
     "kernelName": "pwsh"
    }
   },
   "source": [
    "# พืมพ์คำสั่งตามข้อ 9\n",
    "dotnet run"
   ]
  },
  {
   "cell_type": "markdown",
   "metadata": {},
   "source": [
    "> 10. สรุปผลการทดลอง"
   ]
  },
  {
   "cell_type": "markdown",
   "metadata": {},
   "source": [
    "คำสั่ง dotnet new console ใช้เพื่อสร้างโปรเจคใหม่ได้สะดวกยิ่งขึ้น และมีคำสั่งเพิ่มเติมเช่น dotnet build, dotnet run เมื่อเปลี่ยนคำสั่งให้เปลี่ยนเป็นชื่อนักศึกษา คำว่า HelloWorld จะเปลี่ยนเป็นชื่อนักศึกษาตามที่ใส่ไว้ตามคำสั่ง build,run"
   ]
  }
 ],
 "metadata": {
  "kernelspec": {
   "display_name": ".NET (PowerShell)",
   "language": "PowerShell",
   "name": ".net-pwsh"
  },
  "polyglot_notebook": {
   "kernelInfo": {
    "defaultKernelName": "pwsh",
    "items": [
     {
      "aliases": [],
      "languageName": "pwsh",
      "name": "pwsh"
     }
    ]
   }
  }
 },
 "nbformat": 4,
 "nbformat_minor": 2
}
